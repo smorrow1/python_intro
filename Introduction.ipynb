{
 "cells": [
  {
   "cell_type": "markdown",
   "metadata": {},
   "source": [
    "1. Datentypen"
   ]
  },
  {
   "cell_type": "markdown",
   "metadata": {},
   "source": [
    "Variablen dienen dazu, bestimmte Datentypen zu speichern und damit verschiendste Berechnungen, etc. durchzuführen. <br>\n",
    "\n",
    "Der Datentyp wird gesetzt, sobald einer Variable ein Wert zugewiesen wird. <br>\n",
    "\n",
    "x = \"Hello World\" <br> \n",
    "\n",
    "Python nutzt die folgenden Datentypen by default: \n",
    "\n",
    "Text Type:\tstr <br>\n",
    "Numeric Types:\tint, float, complex <br>\n",
    "Sequence Types:\tlist, tuple, range <br>\n",
    "Mapping Type:\tdict <br>\n",
    "Set Types:\tset, frozenset <br>\n",
    "Boolean Type:\tbool <br>\n",
    "Binary Types:\tbytes, bytearray, memoryview <br>"
   ]
  },
  {
   "cell_type": "code",
   "execution_count": 16,
   "metadata": {},
   "outputs": [
    {
     "name": "stdout",
     "output_type": "stream",
     "text": [
      "<class 'str'>\n"
     ]
    }
   ],
   "source": [
    "a = \"Hello World\"\n",
    "b = 20 \n",
    "c = 20.6\n",
    "d = 1j\n",
    "e = [\"DB\", \"Fern\", \"Verkehr\"]\n",
    "f = (\"DB\", \"Fern\", \"Verkehr\")\n",
    "g = {\"Name\" : \"David\", \"Alter\" : 40}\n",
    "h = range(7)\n",
    "i = True\n",
    "\n",
    "# Datentypen testen mit type() Funktion \n",
    "type(a)\n",
    "\n",
    "# Wenn Python nicht im Jupyter Notebook gestartet wird print() nutzen, um Output zu sehen \n",
    "print(type(a))"
   ]
  },
  {
   "cell_type": "markdown",
   "metadata": {},
   "source": [
    "Datentypen können auch spezifisch zugewiesen werden: "
   ]
  },
  {
   "cell_type": "code",
   "execution_count": 23,
   "metadata": {},
   "outputs": [
    {
     "data": {
      "text/plain": [
       "True"
      ]
     },
     "execution_count": 23,
     "metadata": {},
     "output_type": "execute_result"
    }
   ],
   "source": [
    "a = str(\"Hello World\")\n",
    "b = int(20)\n",
    "c = float(20.5)\n",
    "d = complex(1j)\n",
    "e = list((\"DB\", \"Fern\", \"Verkehr\"))\n",
    "f = tuple((\"DB\", \"Fern\", \"Verkehr\"))\n",
    "g = dict(Name=\"David\", Alter=40)\n",
    "h = range(5)\n",
    "i = bool(1)"
   ]
  },
  {
   "cell_type": "code",
   "execution_count": null,
   "metadata": {},
   "outputs": [],
   "source": []
  },
  {
   "cell_type": "code",
   "execution_count": null,
   "metadata": {},
   "outputs": [],
   "source": []
  },
  {
   "cell_type": "code",
   "execution_count": null,
   "metadata": {},
   "outputs": [],
   "source": []
  }
 ],
 "metadata": {
  "kernelspec": {
   "display_name": "Python 3",
   "language": "python",
   "name": "python3"
  },
  "language_info": {
   "codemirror_mode": {
    "name": "ipython",
    "version": 3
   },
   "file_extension": ".py",
   "mimetype": "text/x-python",
   "name": "python",
   "nbconvert_exporter": "python",
   "pygments_lexer": "ipython3",
   "version": "3.7.4"
  }
 },
 "nbformat": 4,
 "nbformat_minor": 2
}
